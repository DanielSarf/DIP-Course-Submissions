{
 "cells": [
  {
   "cell_type": "markdown",
   "metadata": {},
   "source": [
    "<h3>Task 1:</h3>\n",
    "\n",
    "<ol type=\"a\">\n",
    "  <li>Load any image, find its dimensions and number of channels and display it.</li>\n",
    "  <li>Find the array size, creation date/time, coding method, bit depth, height and width.</li>\n",
    "  <li>What happens if you convert a double having values outside the range [0 255] to an uint8?</li>\n",
    "</ol>"
   ]
  },
  {
   "cell_type": "code",
   "execution_count": 6,
   "metadata": {},
   "outputs": [
    {
     "name": "stdout",
     "output_type": "stream",
     "text": [
      "The dimensions of the image is 200x150 and has 3 channels.\n"
     ]
    }
   ],
   "source": [
    "import cv2\n",
    "\n",
    "imagePath = 'RGB_16-Bit_Sample_Image.png'\n",
    "imgT1 = cv2.imread(imagePath)\n",
    "\n",
    "wT1, hT1, cT1 = imgT1.shape\n",
    "\n",
    "print(f\"The dimensions of the image is {wT1}x{hT1} and has {cT1} channels.\")"
   ]
  },
  {
   "cell_type": "code",
   "execution_count": 9,
   "metadata": {},
   "outputs": [
    {
     "name": "stdout",
     "output_type": "stream",
     "text": [
      "The size of the image is 90000\n",
      "The creation date/time of this image file is 2024-10-09 13:05:39\n",
      "The coding method for this image file is PNG\n"
     ]
    }
   ],
   "source": [
    "import os\n",
    "import datetime\n",
    "\n",
    "print(f\"The size of the image is {imgT1.size}\")\n",
    "\n",
    "modificationTime = os.path.getmtime(imagePath)\n",
    "creationDate = datetime.datetime.fromtimestamp(modificationTime).strftime('%Y-%m-%d %H:%M:%S')\n",
    "\n",
    "print(f\"The creation date/time of this image file is {creationDate}\")\n",
    "\n",
    "fileExtension = os.path.splitext(imagePath)[-1].lower()\n",
    "\n",
    "codingMethods = {\n",
    "    '.jpg': 'JPEG',\n",
    "    '.jpeg': 'JPEG',\n",
    "    '.png': 'PNG',\n",
    "    '.exr': 'OpenEXR',\n",
    "    '.tiff': 'TIFF',\n",
    "    '.bmp': 'BMP',\n",
    "}\n",
    "\n",
    "print(f\"The coding method for this image file is {codingMethods[fileExtension]}\")"
   ]
  },
  {
   "cell_type": "code",
   "execution_count": null,
   "metadata": {},
   "outputs": [],
   "source": []
  },
  {
   "cell_type": "code",
   "execution_count": null,
   "metadata": {},
   "outputs": [],
   "source": []
  }
 ],
 "metadata": {
  "kernelspec": {
   "display_name": "Python 3",
   "language": "python",
   "name": "python3"
  },
  "language_info": {
   "codemirror_mode": {
    "name": "ipython",
    "version": 3
   },
   "file_extension": ".py",
   "mimetype": "text/x-python",
   "name": "python",
   "nbconvert_exporter": "python",
   "pygments_lexer": "ipython3",
   "version": "3.12.7"
  }
 },
 "nbformat": 4,
 "nbformat_minor": 2
}
