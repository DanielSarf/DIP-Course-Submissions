{
 "cells": [
  {
   "cell_type": "markdown",
   "metadata": {},
   "source": [
    "### Face Detection and Pattern Recognition Experiments using OpenCV"
   ]
  },
  {
   "cell_type": "code",
   "execution_count": 18,
   "metadata": {},
   "outputs": [],
   "source": [
    "import cv2\n",
    "\n",
    "# Load Face Haarcascade\n",
    "face_classifier = cv2.CascadeClassifier(\"./haarcascade_frontalface_alt2.xml\")\n",
    "\n",
    "img = cv2.imread(\"./Person.png\")\n",
    "img_gray = cv2.cvtColor(img, cv2.COLOR_BGR2GRAY)\n",
    "\n",
    "# Detect face rects\n",
    "faces = face_classifier.detectMultiScale(img_gray, scaleFactor=1.1, minNeighbors=5)"
   ]
  },
  {
   "cell_type": "code",
   "execution_count": 19,
   "metadata": {},
   "outputs": [],
   "source": [
    "import random\n",
    "\n",
    "show_face_rects = img.copy()\n",
    "\n",
    "thickness = 2\n",
    "for face in faces:\n",
    "    x, y, w, h = face\n",
    "    top_left = (x, y)\n",
    "    bottom_right = (x + w, y + h)\n",
    "    color = (random.randint(0, 255), random.randint(0, 255), random.randint(0, 255))  # Random RGB color\n",
    "    cv2.rectangle(show_face_rects, top_left, bottom_right, color, thickness)\n",
    "\n",
    "cv2.imshow(\"Detected Face(s)\", show_face_rects)\n",
    "cv2.waitKey(0)\n",
    "cv2.destroyAllWindows()"
   ]
  },
  {
   "cell_type": "code",
   "execution_count": 21,
   "metadata": {},
   "outputs": [],
   "source": [
    "# The template for testing\n",
    "f_x, f_y, f_w, f_h = faces[0]\n",
    "face_img = img[f_y:f_y + f_h, f_x:f_x + f_w]\n",
    "\n",
    "methods = {\n",
    "    cv2.TM_CCOEFF_NORMED: \"TM_CCOEFF_NORMED\",\n",
    "    cv2.TM_SQDIFF: \"TM_SQDIFF\",\n",
    "    cv2.TM_CCORR: \"TM_CCORR\",\n",
    "}\n",
    "\n",
    "for method, method_name in methods.items():\n",
    "    result = cv2.matchTemplate(img, face_img, method)\n",
    "    min_value, max_value, min_location, max_location = cv2.minMaxLoc(result)\n",
    "\n",
    "    if method == cv2.TM_SQDIFF:\n",
    "        best_match_loc = min_location # Higher values are better match in TM_SQDIFF\n",
    "    else:\n",
    "        best_match_loc = max_location\n",
    "\n",
    "    h, w = face_img.shape[:2] # Incase image is 3 channel\n",
    "\n",
    "    show_matched_template = img.copy()\n",
    "    cv2.rectangle(show_matched_template, best_match_loc, (best_match_loc[0] + w, best_match_loc[1] + h), (255, 0, 0), 2)\n",
    "\n",
    "    cv2.imshow(f\"Best Match Rect using {method_name}\", show_matched_template)\n",
    "\n",
    "cv2.waitKey(0)\n",
    "cv2.destroyAllWindows()"
   ]
  },
  {
   "cell_type": "code",
   "execution_count": null,
   "metadata": {},
   "outputs": [],
   "source": [
    "result = cv2.matchTemplate(img, face_img, cv2.TM_CCOEFF_NORMED)\n",
    "threshold = 0.8\n",
    "show_matches_template_in_threshold = img.copy()\n",
    "\n",
    "# # Loop through the result matrix and draw rectangles for matches above the threshold\n",
    "# for y in range(result.shape[0]):\n",
    "#     for x in range(result.shape[1]):\n",
    "#         if result[y, x] >= threshold:\n",
    "#             cv2.rectangle(show_matches_template_in_threshold, (x, y), (x + w, y + h), (0, 255, 0), 2)\n",
    "\n",
    "# Using np instead:\n",
    "import numpy as np\n",
    "locations = np.where(result >= threshold)\n",
    "for x, y in zip(*locations[::-1]): \n",
    "    cv2.rectangle(show_matches_template_in_threshold, (x, y), (x + w, y + h), (0, 255, 0), 2)\n",
    "\n",
    "cv2.imshow(f\"Best Matchs with threshold: {threshold}\", show_matches_template_in_threshold)\n",
    "cv2.waitKey(0)\n",
    "cv2.destroyAllWindows()"
   ]
  }
 ],
 "metadata": {
  "kernelspec": {
   "display_name": "Python 3",
   "language": "python",
   "name": "python3"
  },
  "language_info": {
   "codemirror_mode": {
    "name": "ipython",
    "version": 3
   },
   "file_extension": ".py",
   "mimetype": "text/x-python",
   "name": "python",
   "nbconvert_exporter": "python",
   "pygments_lexer": "ipython3",
   "version": "3.12.4"
  }
 },
 "nbformat": 4,
 "nbformat_minor": 2
}
